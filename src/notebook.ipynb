{
 "cells": [
  {
   "cell_type": "markdown",
   "source": [
    "## Import libraries"
   ],
   "metadata": {
    "collapsed": false,
    "pycharm": {
     "name": "#%% md\n"
    }
   }
  },
  {
   "cell_type": "code",
   "execution_count": 1,
   "outputs": [
    {
     "name": "stderr",
     "text": [
      "Using TensorFlow backend.\n"
     ],
     "output_type": "stream"
    }
   ],
   "source": [
    "import os\n",
    "from os import listdir\n",
    "import shutil\n",
    "import matplotlib.pyplot as plt\n",
    "import numpy as np\n",
    "import keras\n",
    "import tensorflow as tf\n",
    "from keras_preprocessing.image import ImageDataGenerator"
   ],
   "metadata": {
    "collapsed": false,
    "pycharm": {
     "name": "#%%\n",
     "is_executing": false
    }
   }
  },
  {
   "cell_type": "markdown",
   "source": [
    "## Define constants"
   ],
   "metadata": {
    "collapsed": false,
    "pycharm": {
     "name": "#%% md\n"
    }
   }
  },
  {
   "cell_type": "code",
   "execution_count": 2,
   "outputs": [],
   "source": [
    "LABELS = {\"n\": \"normal\", \"b\": \"bacteria\", \"v\": \"virus\"}\n",
    "\n",
    "DATASET_PATH = \"../res/dataset/\"\n",
    "PATHS = {\"train\": DATASET_PATH+\"train/\", \"val\": DATASET_PATH+\"val/\", \"test\": DATASET_PATH+\"test/\"}\n",
    "PATH_LABELS = {\"normal\": \"NORMAL/\", \"bacteria\": \"BACTERIA/\", \"virus\": \"VIRUS/\", \"pneumonia\": \"PNEUMONIA/\"}"
   ],
   "metadata": {
    "collapsed": false,
    "pycharm": {
     "name": "#%%\n",
     "is_executing": false
    }
   }
  },
  {
   "cell_type": "markdown",
   "source": [
    "## Load the data"
   ],
   "metadata": {
    "collapsed": false
   }
  },
  {
   "cell_type": "markdown",
   "source": [
    "### Utility functions"
   ],
   "metadata": {
    "collapsed": false,
    "pycharm": {
     "name": "#%% md\n"
    }
   }
  },
  {
   "cell_type": "code",
   "execution_count": 3,
   "outputs": [],
   "source": [
    "def separate_pneuomia_classes(dir):\n",
    "    # Create the 2 folders \"BACTERIA\", \"VIRUS\"\n",
    "    pneumonia_dir = dir+PATH_LABELS[\"pneumonia\"]\n",
    "    bacteria_dir = dir+PATH_LABELS[\"bacteria\"]\n",
    "    virus_dir = dir+PATH_LABELS[\"virus\"]\n",
    "    \n",
    "    if os.path.exists(bacteria_dir) or os.path.exists(virus_dir):\n",
    "        return\n",
    "    else:\n",
    "        os.mkdir(bacteria_dir)\n",
    "        os.mkdir(virus_dir)\n",
    "    \n",
    "    for f in listdir(pneumonia_dir):\n",
    "        shutil.move(pneumonia_dir+f, virus_dir if LABELS[\"v\"] in f else bacteria_dir)\n",
    "        \n",
    "    shutil.rmtree(pneumonia_dir)\n",
    "\n",
    "def get_images_number_in_dir(dir):\n",
    "    return sum([len(files) for r, d, files in os.walk(dir)])"
   ],
   "metadata": {
    "collapsed": false,
    "pycharm": {
     "name": "#%%\n",
     "is_executing": false
    }
   }
  },
  {
   "cell_type": "code",
   "source": [
    "separate_pneuomia_classes(PATHS[\"train\"])\n",
    "separate_pneuomia_classes(PATHS[\"val\"])\n",
    "separate_pneuomia_classes(PATHS[\"test\"])\n",
    "\n",
    "BATCH_SIZE = 32\n",
    "image_count = get_images_number_in_dir(PATHS[\"train\"])\n",
    "STEPS_PER_EPOCH = np.ceil(image_count/BATCH_SIZE)\n",
    "\n",
    "COLOR_MODE = \"grayscale\"\n",
    "CLASS_MODE = \"categorical\"\n",
    "RESCALE = 1./255\n",
    "\n",
    "datagen = ImageDataGenerator(rescale=RESCALE)\n",
    "\n",
    "train_generator = datagen.flow_from_directory(PATHS[\"train\"], batch_size=BATCH_SIZE, color_mode=COLOR_MODE, class_mode=CLASS_MODE)\n",
    "val_generator = datagen.flow_from_directory(PATHS[\"val\"], batch_size=BATCH_SIZE, color_mode=COLOR_MODE, class_mode=CLASS_MODE)\n",
    "test_generator = datagen.flow_from_directory(PATHS[\"test\"], batch_size=BATCH_SIZE, color_mode=COLOR_MODE, class_mode=CLASS_MODE)"
   ],
   "metadata": {
    "collapsed": false,
    "pycharm": {
     "name": "#%%\n",
     "is_executing": false
    }
   },
   "execution_count": 4,
   "outputs": [
    {
     "name": "stdout",
     "text": [
      "Found 5216 images belonging to 3 classes.\nFound 16 images belonging to 3 classes.\n",
      "Found 624 images belonging to 3 classes.\n"
     ],
     "output_type": "stream"
    }
   ]
  }
 ],
 "metadata": {
  "language_info": {
   "codemirror_mode": {
    "name": "ipython",
    "version": 2
   },
   "file_extension": ".py",
   "mimetype": "text/x-python",
   "name": "python",
   "nbconvert_exporter": "python",
   "pygments_lexer": "ipython2",
   "version": "2.7.6"
  },
  "kernelspec": {
   "name": "python3",
   "language": "python",
   "display_name": "Python 3"
  },
  "pycharm": {
   "stem_cell": {
    "cell_type": "raw",
    "source": [],
    "metadata": {
     "collapsed": false
    }
   }
  }
 },
 "nbformat": 4,
 "nbformat_minor": 0
}